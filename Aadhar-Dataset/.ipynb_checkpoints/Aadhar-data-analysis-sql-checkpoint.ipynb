{
 "cells": [
  {
   "cell_type": "markdown",
   "metadata": {},
   "source": [
    "<h1>Data Ingest</h1>"
   ]
  },
  {
   "cell_type": "code",
   "execution_count": 1,
   "metadata": {},
   "outputs": [],
   "source": [
    "import findspark\n",
    "findspark.init()"
   ]
  },
  {
   "cell_type": "code",
   "execution_count": 39,
   "metadata": {},
   "outputs": [],
   "source": [
    "from pyspark.sql import SparkSession, Row, SQLContext\n",
    "from pyspark.sql.types import *\n",
    "from pyspark.sql import functions as F"
   ]
  },
  {
   "cell_type": "code",
   "execution_count": 3,
   "metadata": {},
   "outputs": [],
   "source": [
    "spark = SparkSession.builder.config('spark.data.warehouse.dir', \"file:///C:/temp\").appName('Aadhar-analysis').getOrCreate()"
   ]
  },
  {
   "cell_type": "code",
   "execution_count": 4,
   "metadata": {},
   "outputs": [],
   "source": [
    "df = spark.read.csv('./Aadhar-details.csv', header=True)"
   ]
  },
  {
   "cell_type": "code",
   "execution_count": 45,
   "metadata": {},
   "outputs": [
    {
     "name": "stdout",
     "output_type": "stream",
     "text": [
      "+--------------+--------------------+-------------+---------+------------+--------+------+---+-----------------+------------------+-------------------------+---------------------------------+\n",
      "|     Registrar|    Enrolment Agency|        State| District|Sub_district|Pin_code|Gender|Age|Aadhaar_generated|Enrolment_rejected|Residents_providing_email|Residents_providing_mobile_number|\n",
      "+--------------+--------------------+-------------+---------+------------+--------+------+---+-----------------+------------------+-------------------------+---------------------------------+\n",
      "|Allahabad Bank|A-Onerealtors Pvt...|Uttar Pradesh|Allahabad|        Meja|  212303|Female|  7|                1|                 0|                        0|                                1|\n",
      "|Allahabad Bank|Asha Security Gua...|Uttar Pradesh|Sonbhadra| Robertsganj|  231213|  Male|  8|                1|                 0|                        0|                                0|\n",
      "|Allahabad Bank|   SGS INDIA PVT LTD|Uttar Pradesh|Sultanpur|   Sultanpur|  227812|Female| 13|                1|                 0|                        0|                                1|\n",
      "|Allahabad Bank|Sri Ramraja Sarka...|Uttar Pradesh|   Shamli|      Shamli|  247775|  Male|  6|                1|                 0|                        0|                                1|\n",
      "|Allahabad Bank|  Transmoovers India|Uttar Pradesh|Gorakhpur|    Sahjanwa|  273001|  Male|  8|                1|                 0|                        0|                                1|\n",
      "|Allahabad Bank|  Transmoovers India|Uttar Pradesh| Varanasi|      Pindra|  221101|  Male| 14|                1|                 0|                        0|                                1|\n",
      "|Allahabad Bank|  Transmoovers India|Uttar Pradesh| Varanasi|    Varanasi|  221001|  Male|  9|                1|                 0|                        0|                                1|\n",
      "|Allahabad Bank|  Transmoovers India|Uttar Pradesh| Varanasi|    Varanasi|  221002|  Male|  4|                1|                 0|                        0|                                1|\n",
      "|Allahabad Bank|  Transmoovers India|Uttar Pradesh| Varanasi|    Varanasi|  221002|  Male| 10|                0|                 1|                        0|                                1|\n",
      "|Allahabad Bank|  Transmoovers India|Uttar Pradesh| Varanasi|    Varanasi|  221002|  Male| 19|                1|                 0|                        0|                                1|\n",
      "+--------------+--------------------+-------------+---------+------------+--------+------+---+-----------------+------------------+-------------------------+---------------------------------+\n",
      "only showing top 10 rows\n",
      "\n"
     ]
    }
   ],
   "source": [
    "df.show(10)"
   ]
  },
  {
   "cell_type": "markdown",
   "metadata": {},
   "source": [
    "<h1>Data Quality assessment and remedy</h1>"
   ]
  },
  {
   "cell_type": "markdown",
   "metadata": {},
   "source": [
    "First of all, let us understand the dimensions of the dataset. Let us create a tuple containing the number of observations and columns of the dataframe"
   ]
  },
  {
   "cell_type": "code",
   "execution_count": 38,
   "metadata": {},
   "outputs": [
    {
     "name": "stdout",
     "output_type": "stream",
     "text": [
      "The dataframe has 440818 observations and 12 columns\n"
     ]
    }
   ],
   "source": [
    "#printing shape of the dataframe\n",
    "df_shape = (df.count(), len(df.columns))\n",
    "print('The dataframe has {} observations and {} columns'.format(df_shape[0], df_shape[1]))"
   ]
  },
  {
   "cell_type": "markdown",
   "metadata": {},
   "source": [
    "Now let's assess the schema of the dataframe and identify any data quality issues that we may have to remedy "
   ]
  },
  {
   "cell_type": "code",
   "execution_count": 6,
   "metadata": {},
   "outputs": [
    {
     "name": "stdout",
     "output_type": "stream",
     "text": [
      "root\n",
      " |-- Registrar: string (nullable = true)\n",
      " |-- Enrolment Agency: string (nullable = true)\n",
      " |-- State: string (nullable = true)\n",
      " |-- District: string (nullable = true)\n",
      " |-- Sub District: string (nullable = true)\n",
      " |-- Pin Code: string (nullable = true)\n",
      " |-- Gender: string (nullable = true)\n",
      " |-- Age: string (nullable = true)\n",
      " |-- Aadhaar generated: string (nullable = true)\n",
      " |-- Enrolment Rejected: string (nullable = true)\n",
      " |-- Residents providing email: string (nullable = true)\n",
      " |-- Residents providing mobile number: string (nullable = true)\n",
      "\n"
     ]
    }
   ],
   "source": [
    "df.printSchema()"
   ]
  },
  {
   "cell_type": "markdown",
   "metadata": {},
   "source": [
    "Here we see that some column names have spaces between them that may pose a problem during further analysis and extraction. Let us rename these columns so as not to have any spaces in between and with one uniform convention"
   ]
  },
  {
   "cell_type": "code",
   "execution_count": 20,
   "metadata": {},
   "outputs": [],
   "source": [
    "df = df.withColumnRenamed('Sub District','Sub_district')\\\n",
    ".withColumnRenamed('Pin Code','Pin_code')\\\n",
    ".withColumnRenamed('Aadhaar generated','Aadhaar_generated')\\\n",
    ".withColumnRenamed('Enrolment Rejected','Enrolment_rejected')\\\n",
    ".withColumnRenamed('Residents providing email','Residents_providing_email')\\\n",
    ".withColumnRenamed('Residents providing mobile number','Residents_providing_mobile_number')"
   ]
  },
  {
   "cell_type": "markdown",
   "metadata": {},
   "source": [
    "Let us check if the changes are reflected"
   ]
  },
  {
   "cell_type": "code",
   "execution_count": 23,
   "metadata": {},
   "outputs": [
    {
     "data": {
      "text/plain": [
       "['Registrar',\n",
       " 'Enrolment Agency',\n",
       " 'State',\n",
       " 'District',\n",
       " 'Sub_district',\n",
       " 'Pin_code',\n",
       " 'Gender',\n",
       " 'Age',\n",
       " 'Aadhaar_generated',\n",
       " 'Enrolment_rejected',\n",
       " 'Residents_providing_email',\n",
       " 'Residents_providing_mobile_number']"
      ]
     },
     "execution_count": 23,
     "metadata": {},
     "output_type": "execute_result"
    }
   ],
   "source": [
    "df.columns"
   ]
  },
  {
   "cell_type": "markdown",
   "metadata": {},
   "source": [
    "Let us have a look at columns that we deem can have numeric values so that we can update the datatypes of the particular columns"
   ]
  },
  {
   "cell_type": "code",
   "execution_count": 33,
   "metadata": {},
   "outputs": [
    {
     "name": "stdout",
     "output_type": "stream",
     "text": [
      "+---+-----------------+------------------+-------------------------+---------------------------------+\n",
      "|Age|Aadhaar_generated|Enrolment_rejected|Residents_providing_email|Residents_providing_mobile_number|\n",
      "+---+-----------------+------------------+-------------------------+---------------------------------+\n",
      "|  7|                1|                 0|                        0|                                1|\n",
      "|  8|                1|                 0|                        0|                                0|\n",
      "| 13|                1|                 0|                        0|                                1|\n",
      "|  6|                1|                 0|                        0|                                1|\n",
      "|  8|                1|                 0|                        0|                                1|\n",
      "| 14|                1|                 0|                        0|                                1|\n",
      "|  9|                1|                 0|                        0|                                1|\n",
      "|  4|                1|                 0|                        0|                                1|\n",
      "| 10|                0|                 1|                        0|                                1|\n",
      "| 19|                1|                 0|                        0|                                1|\n",
      "+---+-----------------+------------------+-------------------------+---------------------------------+\n",
      "only showing top 10 rows\n",
      "\n"
     ]
    }
   ],
   "source": [
    "df.select(['Age','Aadhaar_generated','Enrolment_rejected','Residents_providing_email','Residents_providing_mobile_number']).show(10)"
   ]
  },
  {
   "cell_type": "markdown",
   "metadata": {},
   "source": [
    "<b>Note</b>: We are not considering the field Pin_code as numeric as standard numerical operations will not apply to it."
   ]
  },
  {
   "cell_type": "markdown",
   "metadata": {},
   "source": [
    "Let us change the datatype of these relavant fields. This will help us to attain descriptive statistics of these fields. After making the necessary changes, we will check if the updates are reflected in the new schema"
   ]
  },
  {
   "cell_type": "code",
   "execution_count": 34,
   "metadata": {},
   "outputs": [],
   "source": [
    "#change datatype of Age column\n",
    "df=df.withColumn('Age', df.Age.cast('int'))\\\n",
    ".withColumn('Aadhaar_generated', df.Aadhaar_generated.cast('int'))\\\n",
    ".withColumn('Enrolment_rejected', df.Enrolment_rejected.cast('int'))\\\n",
    ".withColumn('Residents_providing_email',df.Residents_providing_email.cast('int'))\\\n",
    ".withColumn('Residents_providing_mobile_number', df.Residents_providing_mobile_number.cast('int'))"
   ]
  },
  {
   "cell_type": "code",
   "execution_count": 44,
   "metadata": {},
   "outputs": [
    {
     "name": "stdout",
     "output_type": "stream",
     "text": [
      "root\n",
      " |-- Registrar: string (nullable = true)\n",
      " |-- Enrolment Agency: string (nullable = true)\n",
      " |-- State: string (nullable = true)\n",
      " |-- District: string (nullable = true)\n",
      " |-- Sub_district: string (nullable = true)\n",
      " |-- Pin_code: string (nullable = true)\n",
      " |-- Gender: string (nullable = true)\n",
      " |-- Age: integer (nullable = true)\n",
      " |-- Aadhaar_generated: integer (nullable = true)\n",
      " |-- Enrolment_rejected: integer (nullable = true)\n",
      " |-- Residents_providing_email: integer (nullable = true)\n",
      " |-- Residents_providing_mobile_number: integer (nullable = true)\n",
      "\n"
     ]
    }
   ],
   "source": [
    "df.printSchema()"
   ]
  },
  {
   "cell_type": "markdown",
   "metadata": {},
   "source": [
    "The Gender column has the first letters of the genders of the candidates. However, it would be better, if the Gender column were a bit more verbose. Let us replace the first letters of the Genders with the full genders."
   ]
  },
  {
   "cell_type": "code",
   "execution_count": 42,
   "metadata": {},
   "outputs": [],
   "source": [
    "df = df.withColumn('Gender',F.when(df.Gender=='M','Male').when(df.Gender=='F','Female').when(df.Gender=='T','Transgender'))"
   ]
  },
  {
   "cell_type": "code",
   "execution_count": 43,
   "metadata": {},
   "outputs": [
    {
     "name": "stdout",
     "output_type": "stream",
     "text": [
      "+-----------+\n",
      "|     Gender|\n",
      "+-----------+\n",
      "|     Female|\n",
      "|Transgender|\n",
      "|       Male|\n",
      "+-----------+\n",
      "\n"
     ]
    }
   ],
   "source": [
    "df.select('Gender').distinct().show()"
   ]
  },
  {
   "cell_type": "code",
   "execution_count": 17,
   "metadata": {},
   "outputs": [],
   "source": [
    "df.createOrReplaceTempView('aadhar_info')"
   ]
  },
  {
   "cell_type": "code",
   "execution_count": 20,
   "metadata": {},
   "outputs": [
    {
     "name": "stdout",
     "output_type": "stream",
     "text": [
      "+------+------------+\n",
      "|Gender|Gender_Count|\n",
      "+------+------------+\n",
      "|     M|      292798|\n",
      "|     F|      148013|\n",
      "|     T|           7|\n",
      "+------+------------+\n",
      "\n"
     ]
    }
   ],
   "source": [
    "res = spark.sql('SELECT Gender, COUNT(1) AS Gender_Count FROM aadhar_info GROUP BY Gender ORDER BY 2 DESC')\n",
    "res.show()"
   ]
  },
  {
   "cell_type": "code",
   "execution_count": 24,
   "metadata": {},
   "outputs": [
    {
     "name": "stdout",
     "output_type": "stream",
     "text": [
      "+------+-----------+\n",
      "|Gender|Average_Age|\n",
      "+------+-----------+\n",
      "|     T|      21.43|\n",
      "|     M|      20.78|\n",
      "|     F|      17.57|\n",
      "+------+-----------+\n",
      "\n"
     ]
    }
   ],
   "source": [
    "res =spark.sql('SELECT Gender, ROUND(AVG(Age),2) AS Average_Age FROM aadhar_info GROUP BY Gender ORDER BY 2 DESC')\n",
    "res.show()"
   ]
  },
  {
   "cell_type": "code",
   "execution_count": 48,
   "metadata": {},
   "outputs": [
    {
     "name": "stdout",
     "output_type": "stream",
     "text": [
      "+-------------+----------+\n",
      "|        State|Male_Count|\n",
      "+-------------+----------+\n",
      "|        Bihar|     81776|\n",
      "|Uttar Pradesh|     69476|\n",
      "|  West Bengal|     60485|\n",
      "+-------------+----------+\n",
      "\n"
     ]
    }
   ],
   "source": [
    "#top 3 states with enrollments for male and female both together\n",
    "res = spark.sql(\"SELECT State, COUNT(1) AS Male_Count FROM aadhar_info \\\n",
    "                GROUP BY State\\\n",
    "                ORDER BY 2 DESC LIMIT 3\").show()"
   ]
  },
  {
   "cell_type": "code",
   "execution_count": 47,
   "metadata": {},
   "outputs": [
    {
     "name": "stdout",
     "output_type": "stream",
     "text": [
      "+-------------+----------+\n",
      "|        State|Male_Count|\n",
      "+-------------+----------+\n",
      "|        Bihar|     54819|\n",
      "|Uttar Pradesh|     47853|\n",
      "|  West Bengal|     35660|\n",
      "+-------------+----------+\n",
      "\n"
     ]
    }
   ],
   "source": [
    "#top 3 states with enrollments for male only\n",
    "res = spark.sql(\"SELECT State, COUNT(1) AS Male_Count FROM aadhar_info WHERE Gender = 'M'\\\n",
    "                GROUP BY State\\\n",
    "                ORDER BY 2 DESC LIMIT 3\").show()"
   ]
  },
  {
   "cell_type": "code",
   "execution_count": 49,
   "metadata": {},
   "outputs": [
    {
     "name": "stdout",
     "output_type": "stream",
     "text": [
      "+-------------+----------+\n",
      "|        State|Male_Count|\n",
      "+-------------+----------+\n",
      "|        Bihar|     26957|\n",
      "|  West Bengal|     24823|\n",
      "|Uttar Pradesh|     21623|\n",
      "+-------------+----------+\n",
      "\n"
     ]
    }
   ],
   "source": [
    "#top 3 states with enrollments for female only\n",
    "res = spark.sql(\"SELECT State, COUNT(1) AS Male_Count FROM aadhar_info WHERE Gender = 'F'\\\n",
    "                GROUP BY State\\\n",
    "                ORDER BY 2 DESC LIMIT 3\").show()"
   ]
  },
  {
   "cell_type": "code",
   "execution_count": 50,
   "metadata": {},
   "outputs": [
    {
     "name": "stdout",
     "output_type": "stream",
     "text": [
      "+-----+---------+----------+\n",
      "|State| District|Male_Count|\n",
      "+-----+---------+----------+\n",
      "|Bihar|  Bhojpur|      3741|\n",
      "|Bihar|    Buxar|      1038|\n",
      "|Bihar|    Patna|      5251|\n",
      "|Bihar|Begusarai|      1553|\n",
      "|Bihar|Madhubani|      2551|\n",
      "|Bihar|  Saharsa|       697|\n",
      "|Bihar|  Nalanda|      2755|\n",
      "|Bihar| Khagaria|      3422|\n",
      "|Bihar|   Araria|      1700|\n",
      "+-----+---------+----------+\n",
      "\n"
     ]
    }
   ],
   "source": [
    "#top 3 districts within each of the top 3 enrollment states for both male and female\n",
    "res = spark.sql(\"SELECT State,District, COUNT(1) AS Male_Count FROM aadhar_info \\\n",
    "                WHERE State IN ('Bihar','Uttar Pradesh', 'West Bengal')\\\n",
    "                GROUP BY State,District\\\n",
    "                ORDER BY 1 LIMIT \").show()"
   ]
  },
  {
   "cell_type": "code",
   "execution_count": 78,
   "metadata": {},
   "outputs": [
    {
     "name": "stdout",
     "output_type": "stream",
     "text": [
      "+--------------------+-----------+\n",
      "|               State|Average_Age|\n",
      "+--------------------+-----------+\n",
      "|         Lakshadweep|       35.0|\n",
      "|             Mizoram|       33.7|\n",
      "|       Daman and Diu|      32.82|\n",
      "|              Others|      32.42|\n",
      "|           Meghalaya|      32.31|\n",
      "|   Jammu and Kashmir|      28.92|\n",
      "|               Assam|      28.21|\n",
      "|            Nagaland|      27.41|\n",
      "|              Kerala|      27.03|\n",
      "|         West Bengal|      23.09|\n",
      "|          Tamil Nadu|      22.59|\n",
      "|             Gujarat|      22.53|\n",
      "|              Punjab|      22.36|\n",
      "|   Arunachal Pradesh|      20.73|\n",
      "|              Odisha|      20.47|\n",
      "|       Uttar Pradesh|      20.37|\n",
      "|               Bihar|      19.15|\n",
      "|      Madhya Pradesh|      18.77|\n",
      "|          Puducherry|      18.59|\n",
      "|             Tripura|      18.42|\n",
      "|           Karnataka|      17.59|\n",
      "|             Manipur|      16.86|\n",
      "|Dadra and Nagar H...|      16.83|\n",
      "|         Maharashtra|      16.64|\n",
      "|               Delhi|      16.62|\n",
      "|         Uttarakhand|      15.77|\n",
      "|        Chhattisgarh|      15.02|\n",
      "|          Chandigarh|      15.02|\n",
      "|             Haryana|      14.69|\n",
      "|           Rajasthan|       14.4|\n",
      "|                 Goa|      13.46|\n",
      "|              Sikkim|       12.4|\n",
      "|           Jharkhand|      12.35|\n",
      "|           Telangana|      11.12|\n",
      "|    Himachal Pradesh|      10.51|\n",
      "|Andaman and Nicob...|       7.57|\n",
      "|      Andhra Pradesh|       7.05|\n",
      "+--------------------+-----------+\n",
      "\n"
     ]
    }
   ],
   "source": [
    "#get average age of applicants across states\n",
    "res = spark.sql(\"SELECT State, ROUND(AVG(Age),2) AS Average_Age FROM aadhar_info GROUP BY State ORDER BY 2 DESC\")\n",
    "res.show(100)"
   ]
  },
  {
   "cell_type": "code",
   "execution_count": null,
   "metadata": {},
   "outputs": [],
   "source": []
  }
 ],
 "metadata": {
  "kernelspec": {
   "display_name": "Python 3",
   "language": "python",
   "name": "python3"
  },
  "language_info": {
   "codemirror_mode": {
    "name": "ipython",
    "version": 3
   },
   "file_extension": ".py",
   "mimetype": "text/x-python",
   "name": "python",
   "nbconvert_exporter": "python",
   "pygments_lexer": "ipython3",
   "version": "3.6.4"
  }
 },
 "nbformat": 4,
 "nbformat_minor": 2
}
