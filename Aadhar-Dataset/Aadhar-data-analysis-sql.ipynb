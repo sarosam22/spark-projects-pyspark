{
 "cells": [
  {
   "cell_type": "markdown",
   "metadata": {},
   "source": [
    "<h1>Data Ingest</h1>"
   ]
  },
  {
   "cell_type": "code",
   "execution_count": 1,
   "metadata": {},
   "outputs": [],
   "source": [
    "import findspark\n",
    "findspark.init()"
   ]
  },
  {
   "cell_type": "code",
   "execution_count": 2,
   "metadata": {},
   "outputs": [],
   "source": [
    "from pyspark.sql import SparkSession, Row, SQLContext\n",
    "from pyspark.sql import functions as F"
   ]
  },
  {
   "cell_type": "code",
   "execution_count": 3,
   "metadata": {},
   "outputs": [],
   "source": [
    "import numpy as np\n",
    "import pandas as pd\n",
    "import matplotlib.pyplot as plt\n",
    "import seaborn as sns\n",
    "%matplotlib inline"
   ]
  },
  {
   "cell_type": "code",
   "execution_count": 4,
   "metadata": {},
   "outputs": [],
   "source": [
    "spark = SparkSession.builder.config('spark.data.warehouse.dir', \"file:///C:/temp\").appName('Aadhar-analysis').getOrCreate()"
   ]
  },
  {
   "cell_type": "code",
   "execution_count": 5,
   "metadata": {},
   "outputs": [],
   "source": [
    "df = spark.read.csv('./UIDAI-ENR-DETAIL-20170308.csv', header=True)"
   ]
  },
  {
   "cell_type": "code",
   "execution_count": 6,
   "metadata": {},
   "outputs": [
    {
     "name": "stdout",
     "output_type": "stream",
     "text": [
      "+--------------+-----------------------------------+-------------+---------+------------+--------+------+---+-----------------+------------------+-------------------------+---------------------------------+\n",
      "|Registrar     |Enrolment Agency                   |State        |District |Sub District|Pin Code|Gender|Age|Aadhaar generated|Enrolment Rejected|Residents providing email|Residents providing mobile number|\n",
      "+--------------+-----------------------------------+-------------+---------+------------+--------+------+---+-----------------+------------------+-------------------------+---------------------------------+\n",
      "|Allahabad Bank|A-Onerealtors Pvt Ltd              |Uttar Pradesh|Allahabad|Meja        |212303  |F     |7  |1                |0                 |0                        |1                                |\n",
      "|Allahabad Bank|Asha Security Guard Services       |Uttar Pradesh|Sonbhadra|Robertsganj |231213  |M     |8  |1                |0                 |0                        |0                                |\n",
      "|Allahabad Bank|SGS INDIA PVT LTD                  |Uttar Pradesh|Sultanpur|Sultanpur   |227812  |F     |13 |1                |0                 |0                        |1                                |\n",
      "|Allahabad Bank|Sri Ramraja Sarkar Lok Kalyan Trust|Uttar Pradesh|Shamli   |Shamli      |247775  |M     |6  |1                |0                 |0                        |1                                |\n",
      "|Allahabad Bank|Transmoovers India                 |Uttar Pradesh|Gorakhpur|Sahjanwa    |273001  |M     |8  |1                |0                 |0                        |1                                |\n",
      "|Allahabad Bank|Transmoovers India                 |Uttar Pradesh|Varanasi |Pindra      |221101  |M     |14 |1                |0                 |0                        |1                                |\n",
      "|Allahabad Bank|Transmoovers India                 |Uttar Pradesh|Varanasi |Varanasi    |221001  |M     |9  |1                |0                 |0                        |1                                |\n",
      "|Allahabad Bank|Transmoovers India                 |Uttar Pradesh|Varanasi |Varanasi    |221002  |M     |4  |1                |0                 |0                        |1                                |\n",
      "|Allahabad Bank|Transmoovers India                 |Uttar Pradesh|Varanasi |Varanasi    |221002  |M     |10 |0                |1                 |0                        |1                                |\n",
      "|Allahabad Bank|Transmoovers India                 |Uttar Pradesh|Varanasi |Varanasi    |221002  |M     |19 |1                |0                 |0                        |1                                |\n",
      "+--------------+-----------------------------------+-------------+---------+------------+--------+------+---+-----------------+------------------+-------------------------+---------------------------------+\n",
      "only showing top 10 rows\n",
      "\n"
     ]
    }
   ],
   "source": [
    "df.show(10, False)"
   ]
  },
  {
   "cell_type": "markdown",
   "metadata": {},
   "source": [
    "<h1>Data Quality assessment and remedy</h1>"
   ]
  },
  {
   "cell_type": "markdown",
   "metadata": {},
   "source": [
    "First of all, let us understand the dimensions of the dataset. Let us create a tuple containing the number of observations and columns of the dataframe"
   ]
  },
  {
   "cell_type": "code",
   "execution_count": 7,
   "metadata": {},
   "outputs": [
    {
     "name": "stdout",
     "output_type": "stream",
     "text": [
      "The dataframe has 440818 observations and 12 columns\n"
     ]
    }
   ],
   "source": [
    "#printing shape of the dataframe\n",
    "df_shape = (df.count(), len(df.columns))\n",
    "print('The dataframe has {} observations and {} columns'.format(df_shape[0], df_shape[1]))"
   ]
  },
  {
   "cell_type": "markdown",
   "metadata": {},
   "source": [
    "Now let's assess the schema of the dataframe and identify any data quality issues that we may have to remedy "
   ]
  },
  {
   "cell_type": "code",
   "execution_count": 8,
   "metadata": {},
   "outputs": [
    {
     "name": "stdout",
     "output_type": "stream",
     "text": [
      "root\n",
      " |-- Registrar: string (nullable = true)\n",
      " |-- Enrolment Agency: string (nullable = true)\n",
      " |-- State: string (nullable = true)\n",
      " |-- District: string (nullable = true)\n",
      " |-- Sub District: string (nullable = true)\n",
      " |-- Pin Code: string (nullable = true)\n",
      " |-- Gender: string (nullable = true)\n",
      " |-- Age: string (nullable = true)\n",
      " |-- Aadhaar generated: string (nullable = true)\n",
      " |-- Enrolment Rejected: string (nullable = true)\n",
      " |-- Residents providing email: string (nullable = true)\n",
      " |-- Residents providing mobile number: string (nullable = true)\n",
      "\n"
     ]
    }
   ],
   "source": [
    "df.printSchema()"
   ]
  },
  {
   "cell_type": "markdown",
   "metadata": {},
   "source": [
    "Here we see that some column names have spaces between them that may pose a problem during further analysis and extraction. Let us rename these columns so as not to have any spaces in between and with one uniform convention"
   ]
  },
  {
   "cell_type": "code",
   "execution_count": 9,
   "metadata": {},
   "outputs": [],
   "source": [
    "df = df.withColumnRenamed('Sub District','Sub_district')\\\n",
    ".withColumnRenamed('Enrolment Agency','Enrolment_agency')\\\n",
    ".withColumnRenamed('Pin Code','Pin_code')\\\n",
    ".withColumnRenamed('Aadhaar generated','Aadhaar_generated')\\\n",
    ".withColumnRenamed('Enrolment Rejected','Enrolment_rejected')\\\n",
    ".withColumnRenamed('Residents providing email','Residents_providing_email')\\\n",
    ".withColumnRenamed('Residents providing mobile number','Residents_providing_mobile_number')"
   ]
  },
  {
   "cell_type": "markdown",
   "metadata": {},
   "source": [
    "Let us check if the changes are reflected"
   ]
  },
  {
   "cell_type": "code",
   "execution_count": 10,
   "metadata": {},
   "outputs": [
    {
     "data": {
      "text/plain": [
       "['Registrar',\n",
       " 'Enrolment_agency',\n",
       " 'State',\n",
       " 'District',\n",
       " 'Sub_district',\n",
       " 'Pin_code',\n",
       " 'Gender',\n",
       " 'Age',\n",
       " 'Aadhaar_generated',\n",
       " 'Enrolment_rejected',\n",
       " 'Residents_providing_email',\n",
       " 'Residents_providing_mobile_number']"
      ]
     },
     "execution_count": 10,
     "metadata": {},
     "output_type": "execute_result"
    }
   ],
   "source": [
    "df.columns"
   ]
  },
  {
   "cell_type": "markdown",
   "metadata": {},
   "source": [
    "Let us have a look at columns that we deem can have numeric values so that we can update the datatypes of the particular columns"
   ]
  },
  {
   "cell_type": "code",
   "execution_count": 11,
   "metadata": {},
   "outputs": [
    {
     "name": "stdout",
     "output_type": "stream",
     "text": [
      "+---+-----------------+------------------+-------------------------+---------------------------------+\n",
      "|Age|Aadhaar_generated|Enrolment_rejected|Residents_providing_email|Residents_providing_mobile_number|\n",
      "+---+-----------------+------------------+-------------------------+---------------------------------+\n",
      "|  7|                1|                 0|                        0|                                1|\n",
      "|  8|                1|                 0|                        0|                                0|\n",
      "| 13|                1|                 0|                        0|                                1|\n",
      "|  6|                1|                 0|                        0|                                1|\n",
      "|  8|                1|                 0|                        0|                                1|\n",
      "| 14|                1|                 0|                        0|                                1|\n",
      "|  9|                1|                 0|                        0|                                1|\n",
      "|  4|                1|                 0|                        0|                                1|\n",
      "| 10|                0|                 1|                        0|                                1|\n",
      "| 19|                1|                 0|                        0|                                1|\n",
      "+---+-----------------+------------------+-------------------------+---------------------------------+\n",
      "only showing top 10 rows\n",
      "\n"
     ]
    }
   ],
   "source": [
    "df.select(['Age','Aadhaar_generated','Enrolment_rejected','Residents_providing_email','Residents_providing_mobile_number']).show(10)"
   ]
  },
  {
   "cell_type": "markdown",
   "metadata": {},
   "source": [
    "<b>Note</b>: We are not considering the field Pin_code as numeric as standard numerical operations will not apply to it."
   ]
  },
  {
   "cell_type": "markdown",
   "metadata": {},
   "source": [
    "Let us change the datatype of these relavant fields. This will help us to attain descriptive statistics of these fields. After making the necessary changes, we will check if the updates are reflected in the new schema"
   ]
  },
  {
   "cell_type": "code",
   "execution_count": 12,
   "metadata": {},
   "outputs": [],
   "source": [
    "#change datatype of Age column\n",
    "df=df.withColumn('Age', df.Age.cast('int'))\\\n",
    ".withColumn('Aadhaar_generated', df.Aadhaar_generated.cast('int'))\\\n",
    ".withColumn('Enrolment_rejected', df.Enrolment_rejected.cast('int'))\\\n",
    ".withColumn('Residents_providing_email',df.Residents_providing_email.cast('int'))\\\n",
    ".withColumn('Residents_providing_mobile_number', df.Residents_providing_mobile_number.cast('int'))"
   ]
  },
  {
   "cell_type": "code",
   "execution_count": 13,
   "metadata": {},
   "outputs": [
    {
     "name": "stdout",
     "output_type": "stream",
     "text": [
      "root\n",
      " |-- Registrar: string (nullable = true)\n",
      " |-- Enrolment_agency: string (nullable = true)\n",
      " |-- State: string (nullable = true)\n",
      " |-- District: string (nullable = true)\n",
      " |-- Sub_district: string (nullable = true)\n",
      " |-- Pin_code: string (nullable = true)\n",
      " |-- Gender: string (nullable = true)\n",
      " |-- Age: integer (nullable = true)\n",
      " |-- Aadhaar_generated: integer (nullable = true)\n",
      " |-- Enrolment_rejected: integer (nullable = true)\n",
      " |-- Residents_providing_email: integer (nullable = true)\n",
      " |-- Residents_providing_mobile_number: integer (nullable = true)\n",
      "\n"
     ]
    }
   ],
   "source": [
    "df.printSchema()"
   ]
  },
  {
   "cell_type": "markdown",
   "metadata": {},
   "source": [
    "Let us have a look at the Gender column and have look at the values therein."
   ]
  },
  {
   "cell_type": "code",
   "execution_count": 14,
   "metadata": {},
   "outputs": [
    {
     "name": "stdout",
     "output_type": "stream",
     "text": [
      "+------+\n",
      "|Gender|\n",
      "+------+\n",
      "|     F|\n",
      "|     T|\n",
      "|     M|\n",
      "+------+\n",
      "\n"
     ]
    }
   ],
   "source": [
    "df.select('Gender').distinct().show()"
   ]
  },
  {
   "cell_type": "markdown",
   "metadata": {},
   "source": [
    "The Gender column has the first letters of the genders of the candidates. However, it would be better, if the Gender column were a bit more verbose. Let us replace the first letters of the Genders with the full genders."
   ]
  },
  {
   "cell_type": "code",
   "execution_count": 15,
   "metadata": {},
   "outputs": [],
   "source": [
    "df = df.withColumn('Gender',F.when(df.Gender=='M','Male').when(df.Gender=='F','Female').when(df.Gender=='T','Transgender'))"
   ]
  },
  {
   "cell_type": "code",
   "execution_count": 16,
   "metadata": {},
   "outputs": [
    {
     "name": "stdout",
     "output_type": "stream",
     "text": [
      "+-----------+\n",
      "|     Gender|\n",
      "+-----------+\n",
      "|     Female|\n",
      "|Transgender|\n",
      "|       Male|\n",
      "+-----------+\n",
      "\n"
     ]
    }
   ],
   "source": [
    "df.select('Gender').distinct().show()"
   ]
  },
  {
   "cell_type": "markdown",
   "metadata": {},
   "source": [
    "Finally, there is one more issue that we have to deal with. The records contained within this dataframe are on an individual person basis. However we see that for multiple records the \"Aadhar_generated\", \"Enrolment_rejected\", \"Residents_providing_email\" and \"Residents_providing_mobile_number\" columns have a myriad range of values. In an ideal scenario, these columns should have binary values of 0 and 1 representing No and Yes respectively. These records may be due to multiple attempts that may have been made at Aadhar generation. So, we will replace a value other than 0 as a positive result and replace it with 1 for all of these columns."
   ]
  },
  {
   "cell_type": "code",
   "execution_count": 17,
   "metadata": {},
   "outputs": [],
   "source": [
    "df = df.withColumn('Aadhaar_generated', F.when(df.Aadhaar_generated!=0,1).otherwise(0))\n",
    "df = df.withColumn('Enrolment_rejected', F.when(df.Enrolment_rejected!=0,1).otherwise(0))\n",
    "df = df.withColumn('Residents_providing_email', F.when(df.Residents_providing_email!=0,1).otherwise(0))\n",
    "df = df.withColumn('Residents_providing_mobile_number', F.when(df.Residents_providing_mobile_number!=0,1).otherwise(0))"
   ]
  },
  {
   "cell_type": "markdown",
   "metadata": {},
   "source": [
    "Now, we should have exclusive data clusters where applicants have either successfully reveived Aadhar cards or they have not. Let's create some helper methods to aid us with this task"
   ]
  },
  {
   "cell_type": "code",
   "execution_count": 18,
   "metadata": {},
   "outputs": [],
   "source": [
    "total_records = df.count()\n",
    "total_states = df.select('State').distinct().count()"
   ]
  },
  {
   "cell_type": "code",
   "execution_count": 19,
   "metadata": {},
   "outputs": [],
   "source": [
    "def percentage_of_success_or_reject(application_state='Success'):\n",
    "    if application_state.strip()=='Success':\n",
    "        successful_generation_count = df.filter(df['Aadhaar_generated']==1).count()\n",
    "        successful_generation_percentage = successful_generation_count/total_records *100\n",
    "        print('The percentage of successful Aadhar generation is {} %'.format(round(successful_generation_percentage,2)))\n",
    "    elif application_state.strip()=='Reject':\n",
    "        rejected_generation_count = df.filter(df['Enrolment_rejected']==1).count()\n",
    "        rejected_generation_percentage = rejected_generation_count/total_records *100\n",
    "        print('The percentage of people whose Aadhar generation was rejected is {} %'.format(round(rejected_generation_percentage,2)))\n",
    "    else:\n",
    "        print('You have provided an invalid Aadhaar application state')"
   ]
  },
  {
   "cell_type": "code",
   "execution_count": 20,
   "metadata": {},
   "outputs": [
    {
     "name": "stdout",
     "output_type": "stream",
     "text": [
      "The percentage of successful Aadhar generation is 95.6 %\n"
     ]
    }
   ],
   "source": [
    "percentage_of_success_or_reject('Success')"
   ]
  },
  {
   "cell_type": "code",
   "execution_count": 21,
   "metadata": {},
   "outputs": [
    {
     "name": "stdout",
     "output_type": "stream",
     "text": [
      "The percentage of people whose Aadhar generation was rejected is 7.16 %\n"
     ]
    }
   ],
   "source": [
    "percentage_of_success_or_reject('Reject')"
   ]
  },
  {
   "cell_type": "markdown",
   "metadata": {},
   "source": [
    "Ideally, we would want the sum of successful generation and rejection to add up to 100 as these two conditions are mutually exclusive and collectively comprehensive. But here that does not seem to be the case. This may be due to an overlap between successful and rejected candidates. Let's test this out. "
   ]
  },
  {
   "cell_type": "code",
   "execution_count": 22,
   "metadata": {},
   "outputs": [
    {
     "data": {
      "text/plain": [
       "12143"
      ]
     },
     "execution_count": 22,
     "metadata": {},
     "output_type": "execute_result"
    }
   ],
   "source": [
    "df.filter((df['Aadhaar_generated']==1) & (df['Enrolment_rejected']==1)).count()"
   ]
  },
  {
   "cell_type": "code",
   "execution_count": 23,
   "metadata": {},
   "outputs": [
    {
     "data": {
      "text/plain": [
       "0"
      ]
     },
     "execution_count": 23,
     "metadata": {},
     "output_type": "execute_result"
    }
   ],
   "source": [
    "df.filter((df['Aadhaar_generated']==0) & (df['Enrolment_rejected']==0)).count()"
   ]
  },
  {
   "cell_type": "markdown",
   "metadata": {},
   "source": [
    "Thus we indeed see that there is an overlap. As the count of these overlaps is not so high in comparison to the dataset, we would do well to remove them from the dataset."
   ]
  },
  {
   "cell_type": "code",
   "execution_count": 25,
   "metadata": {},
   "outputs": [],
   "source": [
    "df = df.filter(~((df['Aadhaar_generated']==1) & (df['Enrolment_rejected']==1)))"
   ]
  },
  {
   "cell_type": "markdown",
   "metadata": {},
   "source": [
    "Let's check now"
   ]
  },
  {
   "cell_type": "code",
   "execution_count": 26,
   "metadata": {},
   "outputs": [
    {
     "data": {
      "text/plain": [
       "0"
      ]
     },
     "execution_count": 26,
     "metadata": {},
     "output_type": "execute_result"
    }
   ],
   "source": [
    "df.filter((df['Aadhaar_generated']==1) & (df['Enrolment_rejected']==1)).count()"
   ]
  },
  {
   "cell_type": "code",
   "execution_count": 27,
   "metadata": {},
   "outputs": [
    {
     "data": {
      "text/plain": [
       "0"
      ]
     },
     "execution_count": 27,
     "metadata": {},
     "output_type": "execute_result"
    }
   ],
   "source": [
    "df.filter((df['Aadhaar_generated']==0) & (df['Enrolment_rejected']==0)).count()"
   ]
  },
  {
   "cell_type": "markdown",
   "metadata": {},
   "source": [
    "Thus we are good to go. Let's update the totals and check the success and reject percentages again and tally the results"
   ]
  },
  {
   "cell_type": "code",
   "execution_count": 28,
   "metadata": {},
   "outputs": [],
   "source": [
    "total_records = df.count()\n",
    "total_states = df.select('State').distinct().count()"
   ]
  },
  {
   "cell_type": "code",
   "execution_count": 29,
   "metadata": {},
   "outputs": [
    {
     "name": "stdout",
     "output_type": "stream",
     "text": [
      "The percentage of successful Aadhar generation is 95.47 %\n"
     ]
    }
   ],
   "source": [
    "percentage_of_success_or_reject('Success')"
   ]
  },
  {
   "cell_type": "code",
   "execution_count": 30,
   "metadata": {},
   "outputs": [
    {
     "name": "stdout",
     "output_type": "stream",
     "text": [
      "The percentage of people whose Aadhar generation was rejected is 4.53 %\n"
     ]
    }
   ],
   "source": [
    "percentage_of_success_or_reject('Reject')"
   ]
  },
  {
   "cell_type": "markdown",
   "metadata": {},
   "source": [
    "Indeed, now the sum of the two values do add up to be 100."
   ]
  },
  {
   "cell_type": "markdown",
   "metadata": {},
   "source": [
    "With these changes in place, we are now in a position to move on to the analysis of our dataset. Let us get started with that."
   ]
  },
  {
   "cell_type": "markdown",
   "metadata": {},
   "source": [
    "<h1>Exploratory Data Analysis</h1>"
   ]
  },
  {
   "cell_type": "markdown",
   "metadata": {},
   "source": [
    "We will use a mixture of SQL syntax and programmatic queries for the purposes for our data analysis.\n",
    "For the purposes of our analysis we will be creating a TempView provided by the Spark engine. As we will not be performing our analysis on the cluster and as it would suit us well if the View were limited to the current session, the usage of a TempView should be just fine. Let us proceed along thos lines."
   ]
  },
  {
   "cell_type": "code",
   "execution_count": 31,
   "metadata": {},
   "outputs": [],
   "source": [
    "df.createOrReplaceTempView('aadhar_info')"
   ]
  },
  {
   "cell_type": "markdown",
   "metadata": {},
   "source": [
    "<b>Note:</b>In this workbook, code samples have been provided for SQL syntax of querying dataframe. However the analogous programmatic syntax has also been provided in commented form in each cell below the SQL syntax."
   ]
  },
  {
   "cell_type": "markdown",
   "metadata": {},
   "source": [
    "<h3>Univariate Analysis</h3>"
   ]
  },
  {
   "cell_type": "markdown",
   "metadata": {},
   "source": [
    "First let us get an idea of the important numerical variable in our dataset viz. the age."
   ]
  },
  {
   "cell_type": "code",
   "execution_count": 32,
   "metadata": {
    "scrolled": true
   },
   "outputs": [
    {
     "name": "stdout",
     "output_type": "stream",
     "text": [
      "+-------+--------+\n",
      "|summary|     Age|\n",
      "+-------+--------+\n",
      "|  count|428675.0|\n",
      "|   mean|    20.1|\n",
      "| stddev|   18.75|\n",
      "|    min|     0.0|\n",
      "|    max|   118.0|\n",
      "+-------+--------+\n",
      "\n"
     ]
    }
   ],
   "source": [
    "res = df.select('Age').describe()\n",
    "res = res.withColumn('Age',F.round(res.Age,2))\n",
    "res.show()"
   ]
  },
  {
   "cell_type": "markdown",
   "metadata": {},
   "source": [
    "A probability density distribution of the age variable would be beneficial for our analysis."
   ]
  },
  {
   "cell_type": "code",
   "execution_count": 33,
   "metadata": {},
   "outputs": [
    {
     "data": {
      "text/plain": [
       "Text(0.5,1,'Probability density distribution of Applicant Age')"
      ]
     },
     "execution_count": 33,
     "metadata": {},
     "output_type": "execute_result"
    },
    {
     "data": {
      "image/png": "[encoded data removed]",
      "text/plain": [
       "<matplotlib.figure.Figure at 0x1e5637c82e8>"
      ]
     },
     "metadata": {},
     "output_type": "display_data"
    }
   ],
   "source": [
    "res = df.select(['Age','Gender'])\n",
    "res_pandas = res.toPandas()\n",
    "fig, axes = plt.subplots(1,1,figsize=(10,10))\n",
    "\n",
    "ax_dist = sns.distplot(res_pandas['Age'], ax=axes, color='green')\n",
    "ax_dist.set_xlabel('Age(in years)')\n",
    "ax_dist.set_ylabel('Probability density of Age')\n",
    "ax_dist.set_title('Probability density distribution of Applicant Age')\n",
    "\n",
    "\n"
   ]
  },
  {
   "cell_type": "code",
   "execution_count": 34,
   "metadata": {},
   "outputs": [
    {
     "data": {
      "image/png": "[encoded data removed]",
      "text/plain": [
       "<matplotlib.figure.Figure at 0x1e56387e160>"
      ]
     },
     "metadata": {},
     "output_type": "display_data"
    }
   ],
   "source": [
    "fig, axes = plt.subplots(1,1,figsize=(10,10))\n",
    "\n",
    "ax_dist = sns.distplot(res_pandas['Age'], ax=axes, color='orange', hist_kws={'cumulative':True})\n",
    "ax_dist.set_xlabel('Age(in years)')\n",
    "ax_dist.set_ylabel('Cumulative Probability density of Age')\n",
    "ax_dist.set_title('Cumulative Probability density distribution of Applicant Age')\n",
    "ax_dist = plt.axvline(20, color='black')"
   ]
  },
  {
   "cell_type": "markdown",
   "metadata": {},
   "source": [
    "As we can see from the plot above, a majority of people applied for Aadhar towards the closing periods of their teenage years.\n",
    "The plot has a distinct right skew and tapers off sharply after the age of approximately 80."
   ]
  },
  {
   "cell_type": "markdown",
   "metadata": {},
   "source": [
    "The cumulative probability distribution of the Age variable shows us that almost 60% of applicants have an age lesser than or equal to 20."
   ]
  },
  {
   "cell_type": "markdown",
   "metadata": {},
   "source": [
    "Next, let us get an idea of Aadhar applications according to Gender."
   ]
  },
  {
   "cell_type": "code",
   "execution_count": 35,
   "metadata": {},
   "outputs": [
    {
     "name": "stdout",
     "output_type": "stream",
     "text": [
      "+-----------+------+\n",
      "|     Gender| count|\n",
      "+-----------+------+\n",
      "|       Male|284580|\n",
      "|     Female|144088|\n",
      "|Transgender|     7|\n",
      "+-----------+------+\n",
      "\n"
     ]
    }
   ],
   "source": [
    "res = spark.sql('SELECT Gender, COUNT(1) AS count FROM aadhar_info GROUP BY Gender ORDER BY 2 DESC')\n",
    "res.show()\n",
    "\n",
    "#res = df.groupBy('Gender').count().sort('count', ascending=False)\n",
    "#res.show()"
   ]
  },
  {
   "cell_type": "markdown",
   "metadata": {},
   "source": [
    "A visualisation of the above trend would be in order"
   ]
  },
  {
   "cell_type": "code",
   "execution_count": 36,
   "metadata": {},
   "outputs": [
    {
     "data": {
      "text/plain": [
       "Text(0.5,1,'Barchart for Gender distribution of applicants')"
      ]
     },
     "execution_count": 36,
     "metadata": {},
     "output_type": "execute_result"
    },
    {
     "data": {
      "image/png": "[encoded data removed]",
      "text/plain": [
       "<matplotlib.figure.Figure at 0x1e56a647400>"
      ]
     },
     "metadata": {},
     "output_type": "display_data"
    }
   ],
   "source": [
    "res_pandas = res.toPandas()\n",
    "\n",
    "fig, axes = plt.subplots(1,1,figsize=(6,6))\n",
    "\n",
    "ax_bar = sns.barplot(x=res_pandas['Gender'],y=res_pandas['count'], ax=axes)\n",
    "ax_bar.set_xlabel('Gender')\n",
    "ax_bar.set_ylabel('Count of individuals')\n",
    "ax_bar.set_title('Barchart for Gender distribution of applicants')"
   ]
  },
  {
   "cell_type": "markdown",
   "metadata": {},
   "source": [
    "We see that Aadhar applications for males are almost twice that for females. This is somewhat surprising as the difference is grossly different from the sex-ratio in our country. Thus we see from this data sample that tendency of males to try to enroll in the Aadhar program is much more than that of females.\n",
    "Also surprising is the fact that so few transgender individuals applied for Aadhar, especially where Aadhar is a necessary government identification and there are no restrictions for an Indian citizen in its enrollment process."
   ]
  },
  {
   "cell_type": "markdown",
   "metadata": {},
   "source": [
    "We might also pose a question as to the most common Registrars. Such a question is addressed below"
   ]
  },
  {
   "cell_type": "code",
   "execution_count": 37,
   "metadata": {},
   "outputs": [
    {
     "name": "stdout",
     "output_type": "stream",
     "text": [
      "+---------------------------------------------------------------+-----+\n",
      "|Registrar                                                      |Count|\n",
      "+---------------------------------------------------------------+-----+\n",
      "|CSC e-Governance Services India Limited                        |0.48 |\n",
      "|NSDL e-Governance Infrastructure Limited                       |0.12 |\n",
      "|DENA BANK                                                      |0.08 |\n",
      "|Tamil Nadu eGovernance Agency                                  |0.04 |\n",
      "|Madhya Pradesh State Electronics Development Corporation Ltd.  |0.04 |\n",
      "|Bank Of India                                                  |0.04 |\n",
      "|Govt of Kerala                                                 |0.03 |\n",
      "|Govt of Gujarat                                                |0.03 |\n",
      "|Dept of ITC Govt of Rajasthan                                  |0.03 |\n",
      "|State Bank of India                                            |0.01 |\n",
      "+---------------------------------------------------------------+-----+\n",
      "\n"
     ]
    }
   ],
   "source": [
    "#top 10 most common registrars\n",
    "res = spark.sql(\"SELECT Registrar, ROUND(COUNT(1)/{},2) AS Count FROM aadhar_info \\\n",
    "                GROUP BY Registrar\\\n",
    "                ORDER BY 2 DESC LIMIT 10\".format(total_records))\n",
    "res.show(10,False)"
   ]
  },
  {
   "cell_type": "markdown",
   "metadata": {},
   "source": [
    "It seems that e-Governance wings of the Common Services Centres and National Securities Depository Limited were successful in amassing the most number of applications, together accounting for almost 60% of all applications. It seems that these e-governance initiatives of the Central Government are indeed doing their job!!"
   ]
  },
  {
   "cell_type": "markdown",
   "metadata": {},
   "source": [
    "Another obvious question is the count of applicants per state. For the purposed of our analysis we will limit our analysis to the top 10 states with highest applicant volume. Also instead of raw numbers, we will consider each state's contributin as a proprtion of the total applicant base"
   ]
  },
  {
   "cell_type": "code",
   "execution_count": 38,
   "metadata": {},
   "outputs": [
    {
     "name": "stdout",
     "output_type": "stream",
     "text": [
      "+--------------+----------+\n",
      "|         State|proportion|\n",
      "+--------------+----------+\n",
      "|         Bihar|      0.19|\n",
      "| Uttar Pradesh|      0.16|\n",
      "|   West Bengal|      0.14|\n",
      "|Madhya Pradesh|      0.08|\n",
      "|     Rajasthan|      0.07|\n",
      "|    Tamil Nadu|      0.05|\n",
      "|       Gujarat|      0.05|\n",
      "|     Karnataka|      0.04|\n",
      "|   Maharashtra|      0.04|\n",
      "|        Odisha|      0.03|\n",
      "+--------------+----------+\n",
      "\n"
     ]
    }
   ],
   "source": [
    "#top 3 states in terms of enrolment applications\n",
    "\n",
    "res = spark.sql(\"SELECT State, ROUND(COUNT(1)/{},2) AS proportion FROM aadhar_info \\\n",
    "                GROUP BY State\\\n",
    "                ORDER BY 2 DESC LIMIT 10\".format(total_records))\n",
    "res.show()\n",
    "\n",
    "#res = df.groupBy('State').count().sort('count',ascending=False).limit(10)\n",
    "#res = res.withColumn('count',F.round(res[1]/total_records,2))\n",
    "#res.show()"
   ]
  },
  {
   "cell_type": "markdown",
   "metadata": {},
   "source": [
    "We can visualise the distribution better with a barplot"
   ]
  },
  {
   "cell_type": "code",
   "execution_count": 39,
   "metadata": {},
   "outputs": [
    {
     "data": {
      "text/plain": [
       "[Text(0,0,'Bihar'),\n",
       " Text(0,0,'Uttar Pradesh'),\n",
       " Text(0,0,'West Bengal'),\n",
       " Text(0,0,'Madhya Pradesh'),\n",
       " Text(0,0,'Rajasthan'),\n",
       " Text(0,0,'Tamil Nadu'),\n",
       " Text(0,0,'Gujarat'),\n",
       " Text(0,0,'Karnataka'),\n",
       " Text(0,0,'Maharashtra'),\n",
       " Text(0,0,'Odisha')]"
      ]
     },
     "execution_count": 39,
     "metadata": {},
     "output_type": "execute_result"
    },
    {
     "data": {
      "image/png": "[encoded data removed]",
      "text/plain": [
       "<matplotlib.figure.Figure at 0x1e56391cdd8>"
      ]
     },
     "metadata": {},
     "output_type": "display_data"
    }
   ],
   "source": [
    "res_pandas = res.toPandas()\n",
    "\n",
    "fig, axes = plt.subplots(1,1,figsize=(6,6))\n",
    "\n",
    "ax_bar = sns.barplot(x=res_pandas.iloc[:,0],y=res_pandas.iloc[:,1], ax=axes)\n",
    "ax_bar.set_xlabel('State')\n",
    "ax_bar.set_ylabel('Proportion of applicants')\n",
    "ax_bar.set_title('Barchart for State distribution of applicants')\n",
    "ax_bar.set_xticklabels(labels=res_pandas['State'],rotation=45)\n"
   ]
  },
  {
   "cell_type": "markdown",
   "metadata": {},
   "source": [
    "We can now see that the top 3 states acoount for almost 50% of the applicant base for Aadhaar card. This does make sense however as the 3 states fall within the top 4 populous states in India. It is a little surprising that Maharashtra lies so far down the line as it the 2nd most populous state in the country."
   ]
  },
  {
   "cell_type": "markdown",
   "metadata": {},
   "source": [
    "Also, it would be beneficial to get an understanding of distribution among districts the same way we did for states. Obviously we will include the State info for reference ,and technically, the inclusion will not violate the analysis being \"univariate\""
   ]
  },
  {
   "cell_type": "code",
   "execution_count": 40,
   "metadata": {},
   "outputs": [
    {
     "name": "stdout",
     "output_type": "stream",
     "text": [
      "+-----------------+-----------+----------+\n",
      "|         District|      State|proportion|\n",
      "+-----------------+-----------+----------+\n",
      "|       Barddhaman|West Bengal|    0.0163|\n",
      "|North 24 Parganas|West Bengal|    0.0157|\n",
      "|South 24 Parganas|West Bengal|    0.0137|\n",
      "|            Patna|      Bihar|    0.0118|\n",
      "|        Bhagalpur|      Bihar|    0.0118|\n",
      "|            Nadia|West Bengal|    0.0117|\n",
      "|             Gaya|      Bihar|    0.0099|\n",
      "|      Murshidabad|West Bengal|    0.0099|\n",
      "|          Kolkata|West Bengal|    0.0092|\n",
      "|          Katihar|      Bihar|    0.0087|\n",
      "+-----------------+-----------+----------+\n",
      "\n"
     ]
    }
   ],
   "source": [
    "#top 3 districts in terms of enrolment applications\n",
    "res = spark.sql(\"SELECT District,State, ROUND(COUNT(1)/{},4) AS proportion FROM aadhar_info \\\n",
    "                GROUP BY District, State\\\n",
    "                ORDER BY 3 DESC LIMIT 10\".format(total_records))\n",
    "res.show()\n",
    "\n",
    "#res = df.groupBy(['District', 'State']).count().sort('count',ascending=False).limit(10)\n",
    "#res = res.withColumn('proportion',F.round(res[2]/total_records,4))\n",
    "#res = res.drop('count')\n",
    "#res.show()\n"
   ]
  },
  {
   "cell_type": "markdown",
   "metadata": {},
   "source": [
    "It is surprising to see that although the top 3 districts with highest application density are in West Bengal, the state itself is only the 3rd in terms of overall application. This may be because Bihar and UP have larger number of districts that contribute more to their total contribution than does West Bengal."
   ]
  },
  {
   "cell_type": "markdown",
   "metadata": {},
   "source": [
    "This concludes our section for univariate analysis."
   ]
  },
  {
   "cell_type": "markdown",
   "metadata": {},
   "source": [
    "<h3>Bivariate and Multivariate analysis</h3>"
   ]
  },
  {
   "cell_type": "markdown",
   "metadata": {},
   "source": [
    "This section will deal with the interactions and co-relations between the different features of the dataset."
   ]
  },
  {
   "cell_type": "markdown",
   "metadata": {},
   "source": [
    "An immediate point of interest, is the ages average ages of applicants across genders. Let us try to ascertain that"
   ]
  },
  {
   "cell_type": "code",
   "execution_count": 41,
   "metadata": {},
   "outputs": [
    {
     "name": "stdout",
     "output_type": "stream",
     "text": [
      "+-----------+-----------+\n",
      "|     Gender|Average_Age|\n",
      "+-----------+-----------+\n",
      "|Transgender|      21.43|\n",
      "|       Male|       21.2|\n",
      "|     Female|      17.91|\n",
      "+-----------+-----------+\n",
      "\n"
     ]
    }
   ],
   "source": [
    "#average ages across genders\n",
    "res = spark.sql(\"SELECT Gender, ROUND(AVG(Age),2) AS Average_Age FROM aadhar_info\\\n",
    "                GROUP BY Gender\\\n",
    "                ORDER BY 2 DESC\")\n",
    "res.show()\n",
    "\n",
    "#res = df.groupBy('Gender').avg('Age').sort('avg(Age)', ascending=False)\n",
    "#res = res.withColumn('avg(Age)', F.round(res[1],2))\n",
    "#res.show()"
   ]
  },
  {
   "cell_type": "code",
   "execution_count": 42,
   "metadata": {},
   "outputs": [
    {
     "data": {
      "text/plain": [
       "Text(0.5,1,'Boxplot of age across genders of applicants')"
      ]
     },
     "execution_count": 42,
     "metadata": {},
     "output_type": "execute_result"
    },
    {
     "data": {
      "image/png": "[encoded data removed]",
      "text/plain": [
       "<matplotlib.figure.Figure at 0x1e568da36d8>"
      ]
     },
     "metadata": {},
     "output_type": "display_data"
    }
   ],
   "source": [
    "res = df.select(['Age','Gender'])\n",
    "res_pandas = res.toPandas()\n",
    "fig, axes = plt.subplots(1,1,figsize=(6,6))\n",
    "\n",
    "ax_box = sns.boxplot(x='Gender',y='Age', data=res_pandas, ax=axes, palette='deep')\n",
    "ax_box.set_xlabel('Gender')\n",
    "ax_box.set_ylabel('Age(in years)')\n",
    "ax_box.set_title('Boxplot of age across genders of applicants')"
   ]
  },
  {
   "cell_type": "markdown",
   "metadata": {},
   "source": [
    "It seems that although women apply to enroll at much lesser volumes than men, they do so at the earliest of ages. Transgender individuals and men apply typically past their teens. We also notice that the IQR for men is the largest among all three genders meaning that men apply for Aadhar over the widest range of ages."
   ]
  },
  {
   "cell_type": "markdown",
   "metadata": {},
   "source": [
    "Next of interest is the average age of erollment application across states."
   ]
  },
  {
   "cell_type": "code",
   "execution_count": 43,
   "metadata": {},
   "outputs": [
    {
     "name": "stdout",
     "output_type": "stream",
     "text": [
      "+--------------------+-----------+\n",
      "|               State|Average_Age|\n",
      "+--------------------+-----------+\n",
      "|         Lakshadweep|       35.0|\n",
      "|             Mizoram|      34.02|\n",
      "|       Daman and Diu|      32.82|\n",
      "|              Others|      32.42|\n",
      "|           Meghalaya|      32.31|\n",
      "|   Jammu and Kashmir|      28.98|\n",
      "|               Assam|       28.2|\n",
      "|            Nagaland|      27.78|\n",
      "|              Kerala|      27.28|\n",
      "|         West Bengal|      23.62|\n",
      "|             Gujarat|      23.22|\n",
      "|          Tamil Nadu|      22.82|\n",
      "|              Punjab|      22.58|\n",
      "|   Arunachal Pradesh|      21.26|\n",
      "|              Odisha|      20.95|\n",
      "|       Uttar Pradesh|      20.65|\n",
      "|               Bihar|      19.57|\n",
      "|      Madhya Pradesh|      19.31|\n",
      "|             Tripura|      18.78|\n",
      "|             Manipur|      18.71|\n",
      "|          Puducherry|      18.67|\n",
      "|           Karnataka|      17.89|\n",
      "|         Maharashtra|      17.04|\n",
      "|               Delhi|      16.83|\n",
      "|Dadra and Nagar H...|      16.83|\n",
      "|         Uttarakhand|       16.5|\n",
      "|        Chhattisgarh|      15.42|\n",
      "|          Chandigarh|      15.19|\n",
      "|             Haryana|      15.09|\n",
      "|           Rajasthan|      14.61|\n",
      "|                 Goa|      13.82|\n",
      "|           Jharkhand|      12.51|\n",
      "|              Sikkim|       12.4|\n",
      "|           Telangana|      11.35|\n",
      "|    Himachal Pradesh|      10.69|\n",
      "|Andaman and Nicob...|       7.57|\n",
      "|      Andhra Pradesh|       7.16|\n",
      "+--------------------+-----------+\n",
      "\n"
     ]
    }
   ],
   "source": [
    "#average ages across states\n",
    "res = spark.sql(\"SELECT State, ROUND(AVG(Age),2) AS Average_Age FROM aadhar_info\\\n",
    "                GROUP BY State\\\n",
    "                ORDER BY 2 DESC\")\n",
    "res.show(100)\n",
    "\n",
    "#res = df.groupBy('State').avg('Age').sort('avg(Age)', ascending=False)\n",
    "#res = res.withColumn('avg(Age)',F.round(res[1],2))\n",
    "#res.show(100)"
   ]
  },
  {
   "cell_type": "markdown",
   "metadata": {},
   "source": [
    "Let us now focus on successful Aadhar generation statistics across genders."
   ]
  },
  {
   "cell_type": "markdown",
   "metadata": {},
   "source": [
    "We also need to ascertain the proportion of people across states that have had their Aadhar successfully generated. For this purpose we need to perform a join operation across two sets of dataframes. We will also extract the total number of applicants per state to see if there is a co-relation between successful acpplications and total number of applicants. The following code demonstrates that startegy."
   ]
  },
  {
   "cell_type": "code",
   "execution_count": 47,
   "metadata": {},
   "outputs": [
    {
     "name": "stdout",
     "output_type": "stream",
     "text": [
      "+-----------+----------------------+-----------+------------------+\n",
      "|     Gender|Successfully_generated|Total_Count|Percentage_success|\n",
      "+-----------+----------------------+-----------+------------------+\n",
      "|       Male|                274122|     284580|             96.33|\n",
      "|     Female|                135147|     144088|             93.79|\n",
      "|Transgender|                     6|          7|             85.71|\n",
      "+-----------+----------------------+-----------+------------------+\n",
      "\n"
     ]
    }
   ],
   "source": [
    "res_total = df.groupBy('Gender').count()\n",
    "res_gen = df.filter(df['Aadhaar_generated']==1).groupBy('Gender').count()\n",
    "\n",
    "res = res_gen.join(res_total,res_total.Gender==res_gen.Gender,'inner')\\\n",
    ".select(res_gen.Gender,res_gen[1].alias('Successfully_generated'), res_total[1].alias('Total_Count'))\n",
    "\n",
    "res = res.withColumn('Percentage_success', F.round((res[1]/res[2])*100,2))\n",
    "\n",
    "res = res.sort('Percentage_success', ascending=False)\n",
    "\n",
    "res.show()"
   ]
  },
  {
   "cell_type": "code",
   "execution_count": 51,
   "metadata": {},
   "outputs": [
    {
     "data": {
      "text/plain": [
       "Text(0.5,1,'Successful Aadhaar generation across Genders ')"
      ]
     },
     "execution_count": 51,
     "metadata": {},
     "output_type": "execute_result"
    },
    {
     "data": {
      "image/png": "[encoded data removed]",
      "text/plain": [
       "<matplotlib.figure.Figure at 0x1e564686438>"
      ]
     },
     "metadata": {},
     "output_type": "display_data"
    }
   ],
   "source": [
    "res_pandas = res.toPandas()\n",
    "\n",
    "fig, axes = plt.subplots(1,1,figsize=(6,6))\n",
    "\n",
    "axes = sns.barplot(x=res_pandas['Gender'], y=np.array([100,100,100]), color='#939393', ax=axes)\n",
    "axes = sns.barplot(x=res_pandas['Gender'], y=res_pandas['Percentage_success'], ax=axes)\n",
    "axes.set_title('Successful Aadhaar generation across Genders ')"
   ]
  },
  {
   "cell_type": "markdown",
   "metadata": {},
   "source": [
    "We can see that males, despite having the largest applicant base, also have the highest successful percentage conversion across genders. Transgender individuals have the lowest conversion rate. However, this should not be construed as serious as the sample set for Transgender personnel is immensely dimunitive to begin with. Further data needs to be collected before conclusive inferences can be made. "
   ]
  },
  {
   "cell_type": "code",
   "execution_count": 52,
   "metadata": {
    "scrolled": true
   },
   "outputs": [
    {
     "name": "stdout",
     "output_type": "stream",
     "text": [
      "+--------------------+------------------+-----+\n",
      "|               State|success_percentage|count|\n",
      "+--------------------+------------------+-----+\n",
      "|              Others|             100.0|   12|\n",
      "|               Assam|             99.26| 2966|\n",
      "|           Meghalaya|             99.23|  259|\n",
      "|             Mizoram|             98.18| 3082|\n",
      "|       Daman and Diu|             97.98|   99|\n",
      "|              Kerala|             97.22|12208|\n",
      "|Dadra and Nagar H...|              97.2|  107|\n",
      "|          Chandigarh|             96.94|  196|\n",
      "|          Tamil Nadu|             96.29|20898|\n",
      "|               Bihar|             96.24|79334|\n",
      "|           Telangana|             96.03| 3678|\n",
      "|           Rajasthan|             95.92|28010|\n",
      "|              Sikkim|             95.83|   48|\n",
      "|       Uttar Pradesh|              95.8|67942|\n",
      "|         Uttarakhand|             95.76| 6110|\n",
      "|        Chhattisgarh|             95.65| 4463|\n",
      "|           Jharkhand|             95.58| 7301|\n",
      "|      Madhya Pradesh|              95.4|35937|\n",
      "|             Gujarat|             95.32|23249|\n",
      "|         West Bengal|             95.27|58598|\n",
      "|            Nagaland|             95.23|  377|\n",
      "|      Andhra Pradesh|             94.88| 4430|\n",
      "|             Tripura|             94.62|  706|\n",
      "|              Punjab|             94.48| 5801|\n",
      "|               Delhi|             94.23| 7108|\n",
      "|         Maharashtra|             94.19|19219|\n",
      "|             Haryana|             93.67| 4964|\n",
      "|           Karnataka|             93.36|15428|\n",
      "|    Himachal Pradesh|             93.22| 1254|\n",
      "|              Odisha|             92.59|11604|\n",
      "|   Arunachal Pradesh|             91.64|  610|\n",
      "|             Manipur|              90.8|  489|\n",
      "|                 Goa|             90.56|  773|\n",
      "|          Puducherry|             89.29|   84|\n",
      "|   Jammu and Kashmir|             85.97| 1319|\n",
      "|         Lakshadweep|              80.0|    5|\n",
      "|Andaman and Nicob...|             71.43|    7|\n",
      "+--------------------+------------------+-----+\n",
      "\n"
     ]
    }
   ],
   "source": [
    "res_total = df.groupBy('State').count()\n",
    "res_gen = df.filter(df['Aadhaar_generated']==1).groupBy('State').count()\n",
    "\n",
    "res = res_gen.join(res_total,res_total.State==res_gen.State,'inner')\\\n",
    ".select(res_gen.State,F.round((res_gen[1]/res_total[1])*100,2).alias('success_percentage'),res_total[1])\n",
    "\n",
    "res = res.sort(res[1],ascending=False)\n",
    "\n",
    "res.show(total_states)"
   ]
  },
  {
   "cell_type": "code",
   "execution_count": 53,
   "metadata": {},
   "outputs": [
    {
     "data": {
      "text/plain": [
       "<matplotlib.lines.Line2D at 0x1e563adbdd8>"
      ]
     },
     "execution_count": 53,
     "metadata": {},
     "output_type": "execute_result"
    },
    {
     "data": {
      "image/png": "[encoded data removed]",
      "text/plain": [
       "<matplotlib.figure.Figure at 0x1e564ca4198>"
      ]
     },
     "metadata": {},
     "output_type": "display_data"
    }
   ],
   "source": [
    "res_pandas = res.toPandas()\n",
    "fig, axes = plt. subplots(1,1,figsize=(6,6))\n",
    "axes = sns.regplot(x='count',y='success_percentage', data=res_pandas, lowess=True, color='#241506')\n",
    "axes.set_ylim(90,100)\n",
    "axes.set_title('Successful Aadhar generation against State applicant base')\n",
    "axes.axhline(95, color='red')"
   ]
  },
  {
   "cell_type": "markdown",
   "metadata": {},
   "source": [
    "The plot, although not confirmative of a strict relationship, is quite insightful nonetheless. We see that successful application rates have a higher variance for states where application base is on the lower side. Thus there are both a mixture of high successful application rates and low successful application rates. As the applicant base increases, the successful conversion rate starts to taper and for applicant counts higher than 30,000 we see that the successful applicant rate narrows down to a small band."
   ]
  },
  {
   "cell_type": "markdown",
   "metadata": {},
   "source": [
    "<h1>Loading data</h1>\n"
   ]
  },
  {
   "cell_type": "markdown",
   "metadata": {},
   "source": [
    "We will now load the data into three data structure formats viz. csv, json and parquet. The cleaned datasets will be available to users for further analysis. Once exported we will load these files using pandas to confirm the correctness of the schema."
   ]
  },
  {
   "cell_type": "code",
   "execution_count": 54,
   "metadata": {},
   "outputs": [],
   "source": [
    "import os, win32api, win32con"
   ]
  },
  {
   "cell_type": "code",
   "execution_count": 55,
   "metadata": {},
   "outputs": [],
   "source": [
    "def load_file(file_path, file_format,*args,**kwargs):\n",
    "    if os.path.exists(file_path):\n",
    "        win32api.SetFileAttributes(file_path, win32con.FILE_ATTRIBUTE_NORMAL)\n",
    "        os.remove(file_path)\n",
    "        \n",
    "    header_info=kwargs['header'] if 'header' in kwargs else None\n",
    "    \n",
    "    try:\n",
    "        df.write.save(file_path, format=file_format, header=header_info) \n",
    "        print('File created successfully')\n",
    "    except:\n",
    "        print('A problem was encountered. The file could not be created!')\n",
    "    "
   ]
  },
  {
   "cell_type": "markdown",
   "metadata": {},
   "source": [
    "<h3>Load cleaned data into csv</h3>"
   ]
  },
  {
   "cell_type": "code",
   "execution_count": 56,
   "metadata": {
    "scrolled": true
   },
   "outputs": [
    {
     "name": "stdout",
     "output_type": "stream",
     "text": [
      "File created successfully\n"
     ]
    }
   ],
   "source": [
    "load_file('./cleaned-data/Aadhar-data-20170308.csv', 'csv', header=True)"
   ]
  },
  {
   "cell_type": "markdown",
   "metadata": {},
   "source": [
    "Let's load the data into a frame"
   ]
  },
  {
   "cell_type": "code",
   "execution_count": 57,
   "metadata": {},
   "outputs": [],
   "source": [
    "df_csv=spark.read.csv('./cleaned-data/Aadhar-data-20170308.csv', header=True)"
   ]
  },
  {
   "cell_type": "code",
   "execution_count": 58,
   "metadata": {},
   "outputs": [
    {
     "name": "stdout",
     "output_type": "stream",
     "text": [
      "+--------------------+----------------+-------------+--------+------------+--------+------+---+-----------------+------------------+-------------------------+---------------------------------+\n",
      "|           Registrar|Enrolment_agency|        State|District|Sub_district|Pin_code|Gender|Age|Aadhaar_generated|Enrolment_rejected|Residents_providing_email|Residents_providing_mobile_number|\n",
      "+--------------------+----------------+-------------+--------+------------+--------+------+---+-----------------+------------------+-------------------------+---------------------------------+\n",
      "|CSC e-Governance ...|         CSC SPV|Uttar Pradesh|  Amethi|Musafirkhana|  227816|  Male|  0|                1|                 0|                        0|                                1|\n",
      "|CSC e-Governance ...|         CSC SPV|Uttar Pradesh|  Amethi|Musafirkhana|  227816|  Male| 26|                1|                 0|                        0|                                1|\n",
      "|CSC e-Governance ...|         CSC SPV|Uttar Pradesh|  Amethi|Musafirkhana|  227816|  Male| 27|                1|                 0|                        0|                                1|\n",
      "|CSC e-Governance ...|         CSC SPV|Uttar Pradesh|  Amethi|Musafirkhana|  227816|  Male| 56|                1|                 0|                        0|                                0|\n",
      "|CSC e-Governance ...|         CSC SPV|Uttar Pradesh|  Amethi|       Tiloi|  229126|  Male| 23|                1|                 0|                        1|                                1|\n",
      "+--------------------+----------------+-------------+--------+------------+--------+------+---+-----------------+------------------+-------------------------+---------------------------------+\n",
      "\n"
     ]
    }
   ],
   "source": [
    "df_csv.limit(5).show()"
   ]
  },
  {
   "cell_type": "code",
   "execution_count": 59,
   "metadata": {},
   "outputs": [
    {
     "name": "stdout",
     "output_type": "stream",
     "text": [
      "(428675, 12)\n"
     ]
    }
   ],
   "source": [
    "print((df_csv.count(),len(df.columns)))"
   ]
  },
  {
   "cell_type": "markdown",
   "metadata": {},
   "source": [
    "<h3>Load cleaned data into json</h3>"
   ]
  },
  {
   "cell_type": "code",
   "execution_count": 60,
   "metadata": {},
   "outputs": [
    {
     "name": "stdout",
     "output_type": "stream",
     "text": [
      "File created successfully\n"
     ]
    }
   ],
   "source": [
    "load_file('./cleaned-data/Aadhar-data-20170308.json', 'json')"
   ]
  },
  {
   "cell_type": "markdown",
   "metadata": {},
   "source": [
    "Let's now try to fetch the data from this json file and load it into a dataframe"
   ]
  },
  {
   "cell_type": "code",
   "execution_count": 61,
   "metadata": {},
   "outputs": [],
   "source": [
    "df_json = spark.read.load('./cleaned-data/Aadhar-data-20170308.json', format='json')"
   ]
  },
  {
   "cell_type": "code",
   "execution_count": 62,
   "metadata": {},
   "outputs": [
    {
     "name": "stdout",
     "output_type": "stream",
     "text": [
      "+--------------+--------------------+-------------+---------+------------+--------+------+---+-----------------+------------------+-------------------------+---------------------------------+\n",
      "|     Registrar|    Enrolment_agency|        State| District|Sub_district|Pin_code|Gender|Age|Aadhaar_generated|Enrolment_rejected|Residents_providing_email|Residents_providing_mobile_number|\n",
      "+--------------+--------------------+-------------+---------+------------+--------+------+---+-----------------+------------------+-------------------------+---------------------------------+\n",
      "|Allahabad Bank|A-Onerealtors Pvt...|Uttar Pradesh|Allahabad|        Meja|  212303|Female|  7|                1|                 0|                        0|                                1|\n",
      "|Allahabad Bank|Asha Security Gua...|Uttar Pradesh|Sonbhadra| Robertsganj|  231213|  Male|  8|                1|                 0|                        0|                                0|\n",
      "|Allahabad Bank|   SGS INDIA PVT LTD|Uttar Pradesh|Sultanpur|   Sultanpur|  227812|Female| 13|                1|                 0|                        0|                                1|\n",
      "|Allahabad Bank|Sri Ramraja Sarka...|Uttar Pradesh|   Shamli|      Shamli|  247775|  Male|  6|                1|                 0|                        0|                                1|\n",
      "|Allahabad Bank|  Transmoovers India|Uttar Pradesh|Gorakhpur|    Sahjanwa|  273001|  Male|  8|                1|                 0|                        0|                                1|\n",
      "+--------------+--------------------+-------------+---------+------------+--------+------+---+-----------------+------------------+-------------------------+---------------------------------+\n",
      "\n"
     ]
    }
   ],
   "source": [
    "df.limit(5).show()"
   ]
  },
  {
   "cell_type": "code",
   "execution_count": 63,
   "metadata": {},
   "outputs": [
    {
     "name": "stdout",
     "output_type": "stream",
     "text": [
      "(428675, 12)\n"
     ]
    }
   ],
   "source": [
    "print((df_json.count(),len(df.columns)))"
   ]
  },
  {
   "cell_type": "markdown",
   "metadata": {},
   "source": [
    "It looks as if the data has been correctly populated. Let us now move on to our next data format viz. parquet files.\n",
    "The steps will be the same as in the case of the json process."
   ]
  },
  {
   "cell_type": "markdown",
   "metadata": {},
   "source": [
    "<h3>Load cleaned data into parquet</h3>"
   ]
  },
  {
   "cell_type": "code",
   "execution_count": 64,
   "metadata": {},
   "outputs": [
    {
     "name": "stdout",
     "output_type": "stream",
     "text": [
      "File created successfully\n"
     ]
    }
   ],
   "source": [
    "load_file('./cleaned-data/Aadhar-data-20170308.parquet', 'parquet')"
   ]
  },
  {
   "cell_type": "markdown",
   "metadata": {},
   "source": [
    "And likewise, let us load the data."
   ]
  },
  {
   "cell_type": "code",
   "execution_count": 65,
   "metadata": {},
   "outputs": [
    {
     "name": "stdout",
     "output_type": "stream",
     "text": [
      "+---------+--------------------+--------------+--------+------------+--------+------+---+-----------------+------------------+-------------------------+---------------------------------+\n",
      "|Registrar|    Enrolment_agency|         State|District|Sub_district|Pin_code|Gender|Age|Aadhaar_generated|Enrolment_rejected|Residents_providing_email|Residents_providing_mobile_number|\n",
      "+---------+--------------------+--------------+--------+------------+--------+------+---+-----------------+------------------+-------------------------+---------------------------------+\n",
      "|DENA BANK|Mahamritunjay Tra...|Madhya Pradesh|   Damoh|      Patera|  470772|  Male| 35|                1|                 0|                        0|                                0|\n",
      "|DENA BANK|Mahamritunjay Tra...|Madhya Pradesh|   Damoh|      Patera|  470772|  Male| 37|                1|                 0|                        0|                                1|\n",
      "|DENA BANK|Mahamritunjay Tra...|Madhya Pradesh|   Damoh|      Patera|  470772|  Male| 48|                0|                 1|                        0|                                0|\n",
      "|DENA BANK|Mahamritunjay Tra...|Madhya Pradesh|   Damoh|    Patharia|  470661|  Male| 31|                0|                 1|                        0|                                1|\n",
      "|DENA BANK|Mahamritunjay Tra...|Madhya Pradesh|   Damoh|    Patharia|  470661|  Male| 33|                1|                 0|                        0|                                1|\n",
      "+---------+--------------------+--------------+--------+------------+--------+------+---+-----------------+------------------+-------------------------+---------------------------------+\n",
      "\n"
     ]
    }
   ],
   "source": [
    "df_parquet = spark.read.load('./cleaned-data/Aadhar-data-20170308.parquet')\n",
    "df_parquet.limit(5).show()"
   ]
  },
  {
   "cell_type": "code",
   "execution_count": 66,
   "metadata": {},
   "outputs": [
    {
     "name": "stdout",
     "output_type": "stream",
     "text": [
      "(428675, 12)\n"
     ]
    }
   ],
   "source": [
    "print((df_parquet.count(),len(df.columns)))"
   ]
  },
  {
   "cell_type": "markdown",
   "metadata": {},
   "source": [
    "<h1>Inferences, Conclusions and Next Steps</h1>"
   ]
  },
  {
   "cell_type": "markdown",
   "metadata": {},
   "source": [
    "<h3>The main findings from the dataset are presented below</h3>"
   ]
  },
  {
   "cell_type": "markdown",
   "metadata": {},
   "source": [
    "<ol>\n",
    "    <li>Ages of applicants typically tend to be more on the lower side with almost 60% of applicants having and age less than or equal to 20 years. </li>\n",
    "    <li>There are almost double the number of male applicants as femaile applicants. Transgender applicants are quite insignificant as compared to the two other genders.</li>\n",
    "    <li>Bihar, UP and West Bengal have the highest number of applicants, their combined applicant base occupying 50% of the entire base.</li>\n",
    "    <li>On an average, females tend to apply at a lower age than men. Transgender individuals apply at the highest age.</li>\n",
    "    <li>On an average, men stand a slightly better chance than women in terms of successfully acquiring an Aadhaar. \n",
    "        For Transgender individuals, sufficient data is not available to make any concrete inferences.\n",
    "    </li>\n",
    "    <li>The percentage of successful Aadhar generation varies a great deal among states with lower applicant base.\n",
    "        As the state applicant base increases, the degree of variance among the successful applicant base tends to decrease.\n",
    "    </li>\n",
    "</ol>"
   ]
  },
  {
   "cell_type": "markdown",
   "metadata": {},
   "source": [
    "<h3>Next steps</h3>"
   ]
  },
  {
   "cell_type": "markdown",
   "metadata": {},
   "source": [
    "While we were able to derive certain useful insights into the Aadhar aaplication process across the country. We saw how successful Aadhar generation hahd certain co-relations with the Gender of applicant and the applicant bas of the State. I think a logical next step would be devise a Machine Learning model that would be able to predict, given the various details of the candidate, the probability of successful Aadhar generation. However, we may need to amass additional information such as Income demographic, educational details etc. Given this additional information, we may be able to create Logistic Regression or Kernelised SVM model that can provide us with the probability of successful generation of a candidate, to a certain degree of accuracy."
   ]
  }
 ],
 "metadata": {
  "kernelspec": {
   "display_name": "Python 3",
   "language": "python",
   "name": "python3"
  },
  "language_info": {
   "codemirror_mode": {
    "name": "ipython",
    "version": 3
   },
   "file_extension": ".py",
   "mimetype": "text/x-python",
   "name": "python",
   "nbconvert_exporter": "python",
   "pygments_lexer": "ipython3",
   "version": "3.6.4"
  }
 },
 "nbformat": 4,
 "nbformat_minor": 2
}
